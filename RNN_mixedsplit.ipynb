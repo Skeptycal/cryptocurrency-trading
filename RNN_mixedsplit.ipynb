{
 "cells": [
  {
   "cell_type": "code",
   "execution_count": 1,
   "metadata": {},
   "outputs": [
    {
     "name": "stderr",
     "output_type": "stream",
     "text": [
      "/home/ubuntu/anaconda3/envs/tensorflow_p36/lib/python3.6/site-packages/h5py/__init__.py:36: FutureWarning: Conversion of the second argument of issubdtype from `float` to `np.floating` is deprecated. In future, it will be treated as `np.float64 == np.dtype(float).type`.\n",
      "  from ._conv import register_converters as _register_converters\n",
      "/home/ubuntu/anaconda3/envs/tensorflow_p36/lib/python3.6/site-packages/matplotlib/__init__.py:962: UserWarning: Duplicate key in file \"/home/ubuntu/.config/matplotlib/matplotlibrc\", line #2\n",
      "  (fname, cnt))\n",
      "/home/ubuntu/anaconda3/envs/tensorflow_p36/lib/python3.6/site-packages/matplotlib/__init__.py:962: UserWarning: Duplicate key in file \"/home/ubuntu/.config/matplotlib/matplotlibrc\", line #3\n",
      "  (fname, cnt))\n"
     ]
    },
    {
     "name": "stdout",
     "output_type": "stream",
     "text": [
      "[name: \"/device:CPU:0\"\n",
      "device_type: \"CPU\"\n",
      "memory_limit: 268435456\n",
      "locality {\n",
      "}\n",
      "incarnation: 14945536182490115725\n",
      ", name: \"/device:GPU:0\"\n",
      "device_type: \"GPU\"\n",
      "memory_limit: 15597921895\n",
      "locality {\n",
      "  bus_id: 1\n",
      "}\n",
      "incarnation: 389487685092773945\n",
      "physical_device_desc: \"device: 0, name: Tesla V100-SXM2-16GB, pci bus id: 0000:00:1e.0, compute capability: 7.0\"\n",
      "]\n"
     ]
    }
   ],
   "source": [
    "from tensorflow.python.client import device_lib\n",
    "print(device_lib.list_local_devices())"
   ]
  },
  {
   "cell_type": "code",
   "execution_count": 2,
   "metadata": {},
   "outputs": [
    {
     "name": "stderr",
     "output_type": "stream",
     "text": [
      "Using TensorFlow backend.\n"
     ]
    }
   ],
   "source": [
    "import csv\n",
    "import numpy as np\n",
    "from keras.layers.core import Dense, Activation, Dropout\n",
    "from keras.layers.recurrent import LSTM\n",
    "from keras.models import Sequential\n",
    "from sklearn.preprocessing import MinMaxScaler\n",
    "from sklearn.metrics import mean_squared_error\n",
    "import matplotlib.pyplot as plt"
   ]
  },
  {
   "cell_type": "code",
   "execution_count": 3,
   "metadata": {},
   "outputs": [],
   "source": [
    "def get_dataset():\n",
    "    # Fetch dataset, keep 'close' prices\n",
    "    hourly_prices = []\n",
    "    r = csv.DictReader(open('Gemini_BTCUSD_1h.csv'))\n",
    "    for x in r:\n",
    "        price = float(x['Close'])\n",
    "        hourly_prices.append(price)\n",
    "    hourly_prices.reverse()\n",
    "    return hourly_prices"
   ]
  },
  {
   "cell_type": "code",
   "execution_count": 4,
   "metadata": {},
   "outputs": [],
   "source": [
    "def split_dataset(dataset):\n",
    "    # Split into train/dev/test sets\n",
    "    traindata = dataset[:int(len(dataset)*8/10)]\n",
    "    devandtestdata = dataset[int(len(dataset)*8/10):]\n",
    "    devdata = devandtestdata[::2]\n",
    "    testdata = devandtestdata[1::2]\n",
    "    #devdata   = dataset[int(len(dataset)*8/10):int(len(dataset)*9/10)]\n",
    "    #testdata  = dataset[int(len(dataset)*9/10):]\n",
    "    return traindata, devdata, testdata"
   ]
  },
  {
   "cell_type": "code",
   "execution_count": 5,
   "metadata": {},
   "outputs": [],
   "source": [
    "def visualize_datasets(traindata, devdata, testdata):\n",
    "    # Display train/dev/test sets\n",
    "    idx_dev_start = len(traindata); idx_dev_end = len(traindata) + len(devdata)\n",
    "    idx_test_start = idx_dev_end; idx_test_end = idx_dev_end + len(testdata)\n",
    "\n",
    "    plt.figure(); \n",
    "    plt.plot(range(len(traindata)), traindata, label='Train'); plt.legend()\n",
    "    plt.plot(range(idx_dev_start, idx_dev_end), devdata, label='Dev')\n",
    "    plt.plot(range(idx_test_start, idx_test_end), testdata, label='Test')\n",
    "    plt.legend(); plt.show()"
   ]
  },
  {
   "cell_type": "code",
   "execution_count": 6,
   "metadata": {},
   "outputs": [],
   "source": [
    "def preprocess(data):\n",
    "    values = np.array(data)\n",
    "    values = values.reshape(-1,1)\n",
    "    values = values.astype('float32') \n",
    "    return values"
   ]
  },
  {
   "cell_type": "code",
   "execution_count": 7,
   "metadata": {},
   "outputs": [],
   "source": [
    "def fit_scaler(data):\n",
    "    scaler = MinMaxScaler(feature_range=(0, 1))\n",
    "    scaled = scaler.fit(preprocess(data))\n",
    "    return scaler"
   ]
  },
  {
   "cell_type": "code",
   "execution_count": 8,
   "metadata": {},
   "outputs": [],
   "source": [
    "def transform(data, fitted_scaler):\n",
    "    return fitted_scaler.transform(preprocess(data))"
   ]
  },
  {
   "cell_type": "code",
   "execution_count": 9,
   "metadata": {},
   "outputs": [],
   "source": [
    "def inverse_transform(data, fitted_scaler):\n",
    "    return fitted_scaler.inverse_transform(preprocess(data))"
   ]
  },
  {
   "cell_type": "code",
   "execution_count": 10,
   "metadata": {},
   "outputs": [],
   "source": [
    "def create_labeled_data(data, lag=10):\n",
    "    X, Y = [], []\n",
    "    for i in range(len(data)-lag-1):\n",
    "        X.append(data[i:i+lag])\n",
    "        Y.append(data[i+lag])\n",
    "    X = np.array(X)\n",
    "    Y = np.array(Y)\n",
    "    return X, Y"
   ]
  },
  {
   "cell_type": "code",
   "execution_count": 11,
   "metadata": {},
   "outputs": [],
   "source": [
    "def plot_losses(model_history, title):\n",
    "    plt.figure()\n",
    "    plt.plot(model_history.history['loss'], label='Train')\n",
    "    plt.plot(model_history.history['val_loss'], label='Dev')\n",
    "    plt.xlabel('Epochs'); plt.ylabel('Loss (mse)')\n",
    "    plt.title(title)\n",
    "    plt.legend(); plt.show()"
   ]
  },
  {
   "cell_type": "code",
   "execution_count": 12,
   "metadata": {},
   "outputs": [],
   "source": [
    "def plot_predictions(model, X_test, Y_test, title, inverse=False, scaler=None):\n",
    "    y_hat = model.predict(X_test)\n",
    "    \n",
    "    if inverse:\n",
    "        y_hat = inverse_transform(y_hat, scaler)\n",
    "        Y_test = inverse_transform(Y_test, scaler)\n",
    "\n",
    "    plt.plot(y_hat, label='Predicted')\n",
    "    plt.plot(Y_test, label='True')\n",
    "    plt.xlabel('Time'); \n",
    "    \n",
    "    if inverse:\n",
    "        plt.ylabel('Price')\n",
    "    else:\n",
    "        plt.ylabel('RESCALED Price')\n",
    "        \n",
    "    plt.title(title)\n",
    "    plt.legend(); plt.show()"
   ]
  },
  {
   "cell_type": "code",
   "execution_count": 13,
   "metadata": {},
   "outputs": [],
   "source": [
    "def calculate_MSE_RMSE(model, scaler, X_test, Y_test, model_name):\n",
    "    y_hat = model.predict(X_test)\n",
    "    y_hat_inverse = inverse_transform(y_hat, scaler)\n",
    "    Y_test_inverse = inverse_transform(Y_test, scaler)\n",
    "    mse = mean_squared_error(Y_test_inverse, y_hat_inverse)\n",
    "    rmse = np.sqrt(mean_squared_error(Y_test_inverse, y_hat_inverse))\n",
    "    print('%s:' % model_name)\n",
    "    print('Test MSE: %.3f' % mse)\n",
    "    print('Test RMSE: %.3f' % rmse)\n",
    "    print()"
   ]
  },
  {
   "cell_type": "code",
   "execution_count": 14,
   "metadata": {},
   "outputs": [],
   "source": [
    "def train_evaluate(model, model_name, \n",
    "                   X_train, Y_train, X_dev, Y_dev, X_test, Y_test,\n",
    "                   lag=10, batch_size=100, epochs=20, verbose=1):\n",
    "    \n",
    "    # Train model\n",
    "    history = model.fit(X_train, Y_train, batch_size=batch_size, epochs=epochs,\n",
    "                        validation_data=(X_dev, Y_dev), verbose=verbose, shuffle=False)\n",
    "\n",
    "    # Plot losses, predictions, and calculate MSE and RMSE\n",
    "    plot_losses(history, 'Loss\\n(%s)' % model_name)\n",
    "    plot_predictions(model, X_test, Y_test, 'Test Predictions\\n(%s)' % model_name)\n",
    "    plot_predictions(model, X_test, Y_test, 'Test Predictions\\n(%s)' % model_name, inverse=True, scaler=scaler)\n",
    "    calculate_MSE_RMSE(model, scaler, X_test, Y_test, '%s' % model_name)"
   ]
  },
  {
   "cell_type": "code",
   "execution_count": 15,
   "metadata": {},
   "outputs": [
    {
     "data": {
      "image/png": "[encoded data removed]",
      "text/plain": [
       "<matplotlib.figure.Figure at 0x7fa34458ed68>"
      ]
     },
     "metadata": {},
     "output_type": "display_data"
    }
   ],
   "source": [
    "# Fetch dataset, split into trai/dev/test, visualize\n",
    "hourly_prices = get_dataset()\n",
    "traindata, devdata, testdata = split_dataset(hourly_prices)\n",
    "visualize_datasets(traindata, devdata, testdata)\n",
    "\n",
    "# Fit scaler on train data, then rescale train/dev/test data accordingly\n",
    "scaler = fit_scaler(traindata)\n",
    "traindata_rescaled = transform(traindata, scaler)\n",
    "devdata_rescaled   = transform(devdata, scaler)\n",
    "testdata_rescaled  = transform(testdata, scaler)"
   ]
  },
  {
   "cell_type": "code",
   "execution_count": 16,
   "metadata": {},
   "outputs": [],
   "source": [
    "# HYPERPARAMETERS\n",
    "#####################\n",
    "lag = 10\n",
    "loss = 'mse'\n",
    "optimizer = 'adam'\n",
    "batch_size = 100\n",
    "epochs = 100\n",
    "model_name = 'model_LAG-%s_LOSS-%s_OPT-%s_BATCHSIZE-%s_EPOCHS-%s' % (lag, loss, optimizer, batch_size, epochs)\n",
    "#####################\n",
    "\n",
    "# Create labeled data, according to lag\n",
    "X_train, Y_train = create_labeled_data(traindata_rescaled, lag)\n",
    "X_dev, Y_dev     = create_labeled_data(devdata_rescaled, lag)\n",
    "X_test, Y_test   = create_labeled_data(testdata_rescaled, lag)\n",
    "LSTM_input_shape = [X_train.shape[1], X_train.shape[2]]"
   ]
  },
  {
   "cell_type": "code",
   "execution_count": 17,
   "metadata": {},
   "outputs": [],
   "source": [
    "# DEFINE MODEL\n",
    "model = Sequential()\n",
    "\n",
    "##################### \n",
    "model.add(LSTM(50, input_shape=LSTM_input_shape, return_sequences=True))\n",
    "model.add(Dropout(0.2))\n",
    "\n",
    "model.add(LSTM(100, return_sequences=False))\n",
    "model.add(Dropout(0.2))\n",
    "\n",
    "model.add(Dense(1))\n",
    "model.add(Activation('linear'))\n",
    "#####################\n",
    "\n",
    "model.compile(loss=loss, optimizer=optimizer)"
   ]
  },
  {
   "cell_type": "code",
   "execution_count": null,
   "metadata": {
    "scrolled": false
   },
   "outputs": [
    {
     "name": "stdout",
     "output_type": "stream",
     "text": [
      "Train on 4509 samples, validate on 554 samples\n",
      "Epoch 1/100\n",
      "4509/4509 [==============================] - 2s 496us/step - loss: 0.0048 - val_loss: 0.0039\n",
      "Epoch 2/100\n",
      "4509/4509 [==============================] - 1s 296us/step - loss: 0.0146 - val_loss: 0.0176\n",
      "Epoch 3/100\n",
      "4509/4509 [==============================] - 1s 299us/step - loss: 0.0288 - val_loss: 0.0892\n",
      "Epoch 4/100\n",
      "4509/4509 [==============================] - 1s 296us/step - loss: 0.0259 - val_loss: 0.0371\n",
      "Epoch 5/100\n",
      "4509/4509 [==============================] - 1s 297us/step - loss: 0.0081 - val_loss: 0.0047\n",
      "Epoch 6/100\n",
      "4509/4509 [==============================] - 1s 296us/step - loss: 0.0021 - val_loss: 0.0029\n",
      "Epoch 7/100\n",
      "4509/4509 [==============================] - 1s 296us/step - loss: 0.0012 - val_loss: 0.0013\n",
      "Epoch 8/100\n",
      "4509/4509 [==============================] - 1s 295us/step - loss: 0.0011 - val_loss: 7.9194e-04\n",
      "Epoch 9/100\n",
      "4509/4509 [==============================] - 1s 297us/step - loss: 8.8260e-04 - val_loss: 5.6009e-04\n",
      "Epoch 10/100\n",
      "4509/4509 [==============================] - 1s 298us/step - loss: 9.1685e-04 - val_loss: 5.5127e-04\n",
      "Epoch 11/100\n",
      "4509/4509 [==============================] - 1s 296us/step - loss: 8.5024e-04 - val_loss: 6.1112e-04\n",
      "Epoch 12/100\n",
      "4509/4509 [==============================] - 1s 297us/step - loss: 9.7475e-04 - val_loss: 9.1255e-04\n",
      "Epoch 13/100\n",
      "4509/4509 [==============================] - 1s 297us/step - loss: 0.0011 - val_loss: 9.6533e-04\n",
      "Epoch 14/100\n",
      "4509/4509 [==============================] - 1s 297us/step - loss: 0.0012 - val_loss: 0.0015\n",
      "Epoch 15/100\n",
      "3100/4509 [===================>..........] - ETA: 0s - loss: 5.8623e-04"
     ]
    }
   ],
   "source": [
    "# Train/evaluate model\n",
    "train_evaluate(model, model_name,\n",
    "               X_train, Y_train, X_dev, Y_dev, X_test, Y_test,\n",
    "               lag=lag, batch_size=batch_size, epochs=epochs, verbose=1)"
   ]
  }
 ],
 "metadata": {
  "kernelspec": {
   "display_name": "Environment (conda_tensorflow_p36)",
   "language": "python",
   "name": "conda_tensorflow_p36"
  },
  "language_info": {
   "codemirror_mode": {
    "name": "ipython",
    "version": 3
   },
   "file_extension": ".py",
   "mimetype": "text/x-python",
   "name": "python",
   "nbconvert_exporter": "python",
   "pygments_lexer": "ipython3",
   "version": "3.6.4"
  }
 },
 "nbformat": 4,
 "nbformat_minor": 2
}
