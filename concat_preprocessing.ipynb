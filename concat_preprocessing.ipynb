{
 "cells": [
  {
   "cell_type": "code",
   "execution_count": 3,
   "metadata": {},
   "outputs": [
    {
     "data": {
      "text/plain": [
       "\"\\nfilepath = 'cboe/lz4_test/BTCUSD_order_book_20170627.csv.lz4'\\n#filepath = 'cboe/lz4_test/BTCUSD_order_book_20170627.csv.gz'\\ndf = pandas.read_csv(io.TextIOWrapper(lz4.frame.open(filepath)))\\n#df = pandas.read_csv(filepath)\\n#df = paratext.load_csv_to_pandas(gzip.open(filepath).read())\\nprint((df))\\n\""
      ]
     },
     "execution_count": 3,
     "metadata": {},
     "output_type": "execute_result"
    }
   ],
   "source": [
    "#!/usr/bin/env python3\n",
    "import pandas as pd\n",
    "import lz4.frame\n",
    "import gzip\n",
    "import io\n",
    "import pyarrow.parquet as pq\n",
    "import pyarrow as pa\n",
    "from glob import glob\n",
    "from plumbum.cmd import rm\n",
    "\n",
    "'''\n",
    "filepath = 'cboe/lz4_test/BTCUSD_order_book_20170627.csv.lz4'\n",
    "#filepath = 'cboe/lz4_test/BTCUSD_order_book_20170627.csv.gz'\n",
    "df = pandas.read_csv(io.TextIOWrapper(lz4.frame.open(filepath)))\n",
    "#df = pandas.read_csv(filepath)\n",
    "#df = paratext.load_csv_to_pandas(gzip.open(filepath).read())\n",
    "print((df))\n",
    "'''"
   ]
  },
  {
   "cell_type": "code",
   "execution_count": 28,
   "metadata": {},
   "outputs": [],
   "source": [
    "files = sorted(glob('cboe/parquet_preprocessed_BTCUSD/*.parquet'))"
   ]
  },
  {
   "cell_type": "code",
   "execution_count": 30,
   "metadata": {},
   "outputs": [
    {
     "name": "stdout",
     "output_type": "stream",
     "text": [
      "cboe/parquet_preprocessed_BTCUSD/BTCUSD_order_book_20180205.parquet\n",
      "cboe/parquet_preprocessed_BTCUSD/BTCUSD_order_book_20180206.parquet\n",
      "cboe/parquet_preprocessed_BTCUSD/BTCUSD_order_book_20180207.parquet\n",
      "cboe/parquet_preprocessed_BTCUSD/BTCUSD_order_book_20180208.parquet\n",
      "cboe/parquet_preprocessed_BTCUSD/BTCUSD_order_book_20180209.parquet\n",
      "cboe/parquet_preprocessed_BTCUSD/BTCUSD_order_book_20180210.parquet\n",
      "cboe/parquet_preprocessed_BTCUSD/BTCUSD_order_book_20180211.parquet\n",
      "cboe/parquet_preprocessed_BTCUSD/BTCUSD_order_book_20180212.parquet\n",
      "cboe/parquet_preprocessed_BTCUSD/BTCUSD_order_book_20180213.parquet\n",
      "cboe/parquet_preprocessed_BTCUSD/BTCUSD_order_book_20180214.parquet\n",
      "cboe/parquet_preprocessed_BTCUSD/BTCUSD_order_book_20180215.parquet\n",
      "cboe/parquet_preprocessed_BTCUSD/BTCUSD_order_book_20180216.parquet\n",
      "cboe/parquet_preprocessed_BTCUSD/BTCUSD_order_book_20180217.parquet\n",
      "cboe/parquet_preprocessed_BTCUSD/BTCUSD_order_book_20180218.parquet\n",
      "cboe/parquet_preprocessed_BTCUSD/BTCUSD_order_book_20180219.parquet\n",
      "cboe/parquet_preprocessed_BTCUSD/BTCUSD_order_book_20180220.parquet\n"
     ]
    }
   ],
   "source": [
    "all_dataframes = []\n",
    "for file in files:\n",
    "    print(file)\n",
    "    df = pq.read_table(file).to_pandas()\n",
    "    all_dataframes.append(df)\n",
    "result = pd.concat(all_dataframes)\n",
    "pq.write_table(pa.Table.from_pandas(result), 'cboe/parquet_preprocessed_subset_only_BTCUSD.parquet', compression='snappy')"
   ]
  }
 ],
 "metadata": {
  "kernelspec": {
   "display_name": "Python 3",
   "language": "python",
   "name": "python3"
  },
  "language_info": {
   "codemirror_mode": {
    "name": "ipython",
    "version": 3
   },
   "file_extension": ".py",
   "mimetype": "text/x-python",
   "name": "python",
   "nbconvert_exporter": "python",
   "pygments_lexer": "ipython3",
   "version": "3.6.3"
  }
 },
 "nbformat": 4,
 "nbformat_minor": 2
}
