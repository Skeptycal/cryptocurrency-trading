{
 "cells": [
  {
   "cell_type": "code",
   "execution_count": 48,
   "metadata": {},
   "outputs": [],
   "source": [
    "import csv\n",
    "import matplotlib.pyplot as plt\n",
    "import numpy as np"
   ]
  },
  {
   "cell_type": "code",
   "execution_count": 42,
   "metadata": {},
   "outputs": [],
   "source": [
    "# Fetch dataset, keep 'close' prices\n",
    "hourly_prices = []\n",
    "r = csv.DictReader(open('Gemini_BTCUSD_1h.csv'))\n",
    "for x in r:\n",
    "    price = float(x['Close'])\n",
    "    hourly_prices.append(price)\n",
    "hourly_prices.reverse()"
   ]
  },
  {
   "cell_type": "code",
   "execution_count": 43,
   "metadata": {
    "scrolled": true
   },
   "outputs": [
    {
     "name": "stdout",
     "output_type": "stream",
     "text": [
      "first price\n",
      "2497.0\n",
      "last price\n",
      "10295.14\n"
     ]
    }
   ],
   "source": [
    "# Get first and last prices to evaluate HOLD strategy\n",
    "first_price = hourly_prices[0]\n",
    "last_price = hourly_prices[-1]\n",
    "print('first price')\n",
    "print(first_price)\n",
    "print('last price')\n",
    "print(last_price)"
   ]
  },
  {
   "cell_type": "code",
   "execution_count": 44,
   "metadata": {},
   "outputs": [],
   "source": [
    "# Split into train/dev/test sets\n",
    "traindata = hourly_prices[:int(len(hourly_prices)*8/10)]\n",
    "devdata = hourly_prices[int(len(hourly_prices)*8/10):int(len(hourly_prices)*9/10)]\n",
    "testdata = hourly_prices[int(len(hourly_prices)*9/10):]"
   ]
  },
  {
   "cell_type": "code",
   "execution_count": 45,
   "metadata": {},
   "outputs": [
    {
     "data": {
      "text/plain": [
       "<matplotlib.legend.Legend at 0x108afd940>"
      ]
     },
     "execution_count": 45,
     "metadata": {},
     "output_type": "execute_result"
    },
    {
     "data": {
      "image/png": "[encoded data removed]",
      "text/plain": [
       "<matplotlib.figure.Figure at 0x1125a4278>"
      ]
     },
     "metadata": {},
     "output_type": "display_data"
    }
   ],
   "source": [
    "# Display train/dev/test sets\n",
    "idx_dev_start = len(traindata); idx_dev_end = len(traindata) + len(devdata)\n",
    "idx_test_start = idx_dev_end; idx_test_end = idx_dev_end + len(testdata)\n",
    "\n",
    "plt.figure(); \n",
    "plt.plot(range(len(traindata)), traindata, label='Train'); plt.legend()\n",
    "plt.plot(range(idx_dev_start, idx_dev_end), devdata, label='Dev')\n",
    "plt.plot(range(idx_test_start, idx_test_end), testdata, label='Test')\n",
    "plt.legend()"
   ]
  },
  {
   "cell_type": "code",
   "execution_count": 49,
   "metadata": {},
   "outputs": [],
   "source": [
    "def event_count(time_series, data_name):\n",
    "    upevents = 0\n",
    "    downevents = 0\n",
    "    sameprice = 0\n",
    "    prev_obv = time_series[0]\n",
    "    for obv in time_series[1:]:\n",
    "        if obv > prev_obv:\n",
    "            upevents += 1\n",
    "        elif obv < prev_obv:\n",
    "            downevents += 1\n",
    "        elif obv == prev_obv:\n",
    "            sameprice += 1\n",
    "        prev_obv = obv\n",
    "    print('=== Event counts on %s ===' % data_name)\n",
    "    print('upevents')\n",
    "    print(upevents)\n",
    "    print('downevents')\n",
    "    print(downevents)\n",
    "    print('sameprice')\n",
    "    print(sameprice)\n",
    "    print()"
   ]
  },
  {
   "cell_type": "code",
   "execution_count": 50,
   "metadata": {},
   "outputs": [],
   "source": [
    "def mse(time_series, data_name):\n",
    "    total_squared_error = 0\n",
    "    total_absolute_error = 0\n",
    "    prev_obv = time_series[0]\n",
    "    for obv in time_series[1:]:\n",
    "      total_squared_error += (obv - prev_obv)**2\n",
    "      total_absolute_error += abs(obv - prev_obv)\n",
    "      prev_obv = obv\n",
    "    num_predictions = len(time_series) - 1\n",
    "    mean_squared_error = total_squared_error / num_predictions\n",
    "    mean_absolute_error = total_absolute_error / num_predictions\n",
    "    root_mean_squared_error = np.sqrt(mean_squared_error)\n",
    "    print('=== baseline on %s ===' % data_name)\n",
    "    print('total squared error')\n",
    "    print(total_squared_error)\n",
    "    print('total absolute error')\n",
    "    print(total_absolute_error)\n",
    "    print('mean squared error')\n",
    "    print(mean_squared_error)\n",
    "    print('mean absolute error')\n",
    "    print(mean_absolute_error) \n",
    "    print('root mean squared error')\n",
    "    print(root_mean_squared_error) \n",
    "    print()"
   ]
  },
  {
   "cell_type": "code",
   "execution_count": 51,
   "metadata": {
    "scrolled": false
   },
   "outputs": [
    {
     "name": "stdout",
     "output_type": "stream",
     "text": [
      "=== Event counts on ALL ===\n",
      "upevents\n",
      "2902\n",
      "downevents\n",
      "2648\n",
      "sameprice\n",
      "99\n",
      "\n",
      "=== Event counts on TRAIN ===\n",
      "upevents\n",
      "2342\n",
      "downevents\n",
      "2081\n",
      "sameprice\n",
      "96\n",
      "\n",
      "=== Event counts on DEV ===\n",
      "upevents\n",
      "280\n",
      "downevents\n",
      "281\n",
      "sameprice\n",
      "3\n",
      "\n",
      "=== Event counts on TEST ===\n",
      "upevents\n",
      "278\n",
      "downevents\n",
      "286\n",
      "sameprice\n",
      "0\n",
      "\n"
     ]
    }
   ],
   "source": [
    "event_count(hourly_prices, 'ALL')\n",
    "event_count(traindata, 'TRAIN')\n",
    "event_count(devdata, 'DEV')\n",
    "event_count(testdata, 'TEST')"
   ]
  },
  {
   "cell_type": "code",
   "execution_count": 52,
   "metadata": {},
   "outputs": [
    {
     "name": "stdout",
     "output_type": "stream",
     "text": [
      "=== baseline on ALL ===\n",
      "total squared error\n",
      "111419382.70399998\n",
      "total absolute error\n",
      "433252.560000001\n",
      "mean squared error\n",
      "19723.735653035932\n",
      "mean absolute error\n",
      "76.69544344131722\n",
      "root mean squared error\n",
      "140.44121778536362\n",
      "\n",
      "=== baseline on TRAIN ===\n",
      "total squared error\n",
      "75421413.48809992\n",
      "total absolute error\n",
      "285459.2900000003\n",
      "mean squared error\n",
      "16689.845870347403\n",
      "mean absolute error\n",
      "63.168685549900495\n",
      "root mean squared error\n",
      "129.18918635221527\n",
      "\n",
      "=== baseline on DEV ===\n",
      "total squared error\n",
      "24221337.641200013\n",
      "total absolute error\n",
      "85687.21999999997\n",
      "mean squared error\n",
      "42945.63411560286\n",
      "mean absolute error\n",
      "151.92769503546094\n",
      "root mean squared error\n",
      "207.23328428513327\n",
      "\n",
      "=== baseline on TEST ===\n",
      "total squared error\n",
      "11776098.54899999\n",
      "total absolute error\n",
      "62075.22\n",
      "mean squared error\n",
      "20879.60735638296\n",
      "mean absolute error\n",
      "110.06244680851064\n",
      "root mean squared error\n",
      "144.4977763025541\n",
      "\n"
     ]
    }
   ],
   "source": [
    "mse(hourly_prices, 'ALL')\n",
    "mse(traindata, 'TRAIN')\n",
    "mse(devdata, 'DEV')\n",
    "mse(testdata, 'TEST')"
   ]
  }
 ],
 "metadata": {
  "kernelspec": {
   "display_name": "Python 3",
   "language": "python",
   "name": "python3"
  },
  "language_info": {
   "codemirror_mode": {
    "name": "ipython",
    "version": 3
   },
   "file_extension": ".py",
   "mimetype": "text/x-python",
   "name": "python",
   "nbconvert_exporter": "python",
   "pygments_lexer": "ipython3",
   "version": "3.6.4"
  }
 },
 "nbformat": 4,
 "nbformat_minor": 2
}
